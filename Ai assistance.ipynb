{
 "cells": [
  {
   "cell_type": "code",
   "execution_count": null,
   "id": "498fa038",
   "metadata": {},
   "outputs": [],
   "source": [
    "import openai\n",
    "import os\n",
    "import pyttsx3"
   ]
  },
  {
   "cell_type": "code",
   "execution_count": null,
   "id": "63f781ea",
   "metadata": {},
   "outputs": [],
   "source": []
  },
  {
   "cell_type": "code",
   "execution_count": null,
   "id": "f2cf8421",
   "metadata": {},
   "outputs": [],
   "source": [
    "engine = pyttsx3.init()\n",
    "def speak(text):\n",
    "    engine.say(text)\n",
    "    engine.runAndWait()"
   ]
  },
  {
   "cell_type": "code",
   "execution_count": null,
   "id": "1c5f90f1",
   "metadata": {},
   "outputs": [],
   "source": []
  },
  {
   "cell_type": "code",
   "execution_count": null,
   "id": "e345f22f",
   "metadata": {},
   "outputs": [],
   "source": [
    "openai.api_key_path = './api_key'"
   ]
  },
  {
   "cell_type": "code",
   "execution_count": null,
   "id": "509f0d32",
   "metadata": {},
   "outputs": [],
   "source": [
    "def get_complete_messages(messages,model = 'gpt-3.5-turbo'):\n",
    "    response = openai.ChatCompletion.create(\n",
    "    messages = messages,\n",
    "    model = model,\n",
    "    temperature = 0\n",
    "    )\n",
    "    return response.choices[0].message[\"content\"]"
   ]
  },
  {
   "cell_type": "code",
   "execution_count": null,
   "id": "104bea13",
   "metadata": {},
   "outputs": [],
   "source": [
    "name = str(input(\"enter your name     \"))"
   ]
  },
  {
   "cell_type": "code",
   "execution_count": null,
   "id": "1df5d586",
   "metadata": {},
   "outputs": [],
   "source": [
    "messages = [{'role':'system','content':f\"\"\"you are an ai assistant with name Jarvis, who solves the queries of students,name of the student is {name}, you will introduce yourself and asks students for their queries and solves their queries \\n\n",
    " You respond in a short, very conversational friendly style\"\"\"}  ]"
   ]
  },
  {
   "cell_type": "code",
   "execution_count": null,
   "id": "2e3d3a5e",
   "metadata": {},
   "outputs": [],
   "source": [
    "text = \"\"\"This is an interactive Ai assistant provided by openai, use this assistant to solve your queries\"\"\"\n",
    "speak(text)\n",
    "print(\"This is an interactive Ai assistant provided by openai\")\n",
    "print(\"Students can use this assistant to solve their queries\")\n",
    "print(\"type exit to stop the turn off the assistant\")\n",
    "while(1):\n",
    "    prompt = str(input(\"ask      \"))\n",
    "    print(\"************************************************************\")\n",
    "    if(prompt.lower() == \"exit\"):\n",
    "        print(\"Thank you, have a nice day!\")\n",
    "        speak(\"Thank you, have a nice day!\")\n",
    "        break\n",
    "    query = {'role':'user','content':prompt}\n",
    "    messages.append(query)\n",
    "    response = get_complete_messages(messages)\n",
    "    messages.append({'role':'assistant','content':response})\n",
    "    print(response)\n",
    "    speak(response)\n",
    "    print(\"************************************************************\")\n",
    "    \n",
    "    \n",
    "    \n",
    "    "
   ]
  },
  {
   "cell_type": "code",
   "execution_count": null,
   "id": "2996f921",
   "metadata": {},
   "outputs": [],
   "source": []
  },
  {
   "cell_type": "code",
   "execution_count": null,
   "id": "16e7f340",
   "metadata": {},
   "outputs": [],
   "source": []
  },
  {
   "cell_type": "code",
   "execution_count": null,
   "id": "7744dc8b",
   "metadata": {},
   "outputs": [],
   "source": [
    "\n"
   ]
  }
 ],
 "metadata": {
  "kernelspec": {
   "display_name": "Python 3 (ipykernel)",
   "language": "python",
   "name": "python3"
  },
  "language_info": {
   "codemirror_mode": {
    "name": "ipython",
    "version": 3
   },
   "file_extension": ".py",
   "mimetype": "text/x-python",
   "name": "python",
   "nbconvert_exporter": "python",
   "pygments_lexer": "ipython3",
   "version": "3.12.0"
  }
 },
 "nbformat": 4,
 "nbformat_minor": 5
}
